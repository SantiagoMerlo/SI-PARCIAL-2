{
  "nbformat": 4,
  "nbformat_minor": 0,
  "metadata": {
    "colab": {
      "name": "Parcial2.ipynb",
      "provenance": [],
      "collapsed_sections": [],
      "toc_visible": true,
      "include_colab_link": true
    },
    "kernelspec": {
      "name": "python3",
      "display_name": "Python 3"
    },
    "language_info": {
      "name": "python"
    }
  },
  "cells": [
    {
      "cell_type": "markdown",
      "metadata": {
        "id": "view-in-github",
        "colab_type": "text"
      },
      "source": [
        "<a href=\"https://colab.research.google.com/github/SantiagoMerlo/SI-PARCIAL-2/blob/main/parcial.ipynb\" target=\"_parent\"><img src=\"https://colab.research.google.com/assets/colab-badge.svg\" alt=\"Open In Colab\"/></a>"
      ]
    },
    {
      "cell_type": "markdown",
      "metadata": {
        "id": "qqO2n9viOLYU"
      },
      "source": [
        "# Consigna Parcial\n",
        "#### Se pide generar el mejor modelo que considere utilizando  una  SVM y otro basado en Redes Neuronales de Backpropagation via tensor flow:\n",
        "##### Evaluar la posibilidad de definir entre tratamiento adecuado (KtVequilibrado > 1.2) del tratamiento inadecuado (KtV equilibrado <= 1.2) Debe realizar las métricsa de comparacion pertinentes y aplicar los conceptos del paper ClinicalNephr. "
      ]
    },
    {
      "cell_type": "markdown",
      "metadata": {
        "id": "XjXEnockOxjk"
      },
      "source": [
        "### SVM"
      ]
    },
    {
      "cell_type": "code",
      "metadata": {
        "id": "gmdt1GrKN55t"
      },
      "source": [
        "from matplotlib import pyplot as plt\n",
        "import numpy as np\n",
        "import pandas as pd\n",
        "import seaborn as sns\n",
        "from sklearn.preprocessing import StandardScaler\n",
        "from sklearn.model_selection import train_test_split\n",
        "from sklearn.metrics import confusion_matrix\n",
        "from sklearn.svm import SVR"
      ],
      "execution_count": 1,
      "outputs": []
    },
    {
      "cell_type": "markdown",
      "metadata": {
        "id": "4QJz9kW5wTlD"
      },
      "source": [
        "### Parametros"
      ]
    },
    {
      "cell_type": "code",
      "metadata": {
        "id": "vBHbB7k3wTDF"
      },
      "source": [
        "TEST_SIZE = 0.2\n",
        "SEED = 2019"
      ],
      "execution_count": null,
      "outputs": []
    },
    {
      "cell_type": "code",
      "metadata": {
        "colab": {
          "base_uri": "https://localhost:8080/",
          "height": 424
        },
        "id": "Q4eLOgolPgWB",
        "outputId": "c0c50337-b8a3-45d2-9444-095926ec285d"
      },
      "source": [
        "df = pd.read_csv('urea.csv')\n",
        "df"
      ],
      "execution_count": null,
      "outputs": [
        {
          "output_type": "execute_result",
          "data": {
            "text/html": [
              "<div>\n",
              "<style scoped>\n",
              "    .dataframe tbody tr th:only-of-type {\n",
              "        vertical-align: middle;\n",
              "    }\n",
              "\n",
              "    .dataframe tbody tr th {\n",
              "        vertical-align: top;\n",
              "    }\n",
              "\n",
              "    .dataframe thead th {\n",
              "        text-align: right;\n",
              "    }\n",
              "</style>\n",
              "<table border=\"1\" class=\"dataframe\">\n",
              "  <thead>\n",
              "    <tr style=\"text-align: right;\">\n",
              "      <th></th>\n",
              "      <th>Upre</th>\n",
              "      <th>U120</th>\n",
              "      <th>Upos</th>\n",
              "      <th>PP</th>\n",
              "      <th>UF</th>\n",
              "      <th>Ueq</th>\n",
              "    </tr>\n",
              "  </thead>\n",
              "  <tbody>\n",
              "    <tr>\n",
              "      <th>0</th>\n",
              "      <td>121</td>\n",
              "      <td>63</td>\n",
              "      <td>47</td>\n",
              "      <td>94.5</td>\n",
              "      <td>2.9</td>\n",
              "      <td>51.0</td>\n",
              "    </tr>\n",
              "    <tr>\n",
              "      <th>1</th>\n",
              "      <td>166</td>\n",
              "      <td>87</td>\n",
              "      <td>68</td>\n",
              "      <td>59.4</td>\n",
              "      <td>1.4</td>\n",
              "      <td>71.0</td>\n",
              "    </tr>\n",
              "    <tr>\n",
              "      <th>2</th>\n",
              "      <td>196</td>\n",
              "      <td>68</td>\n",
              "      <td>40</td>\n",
              "      <td>61.6</td>\n",
              "      <td>1.9</td>\n",
              "      <td>42.0</td>\n",
              "    </tr>\n",
              "    <tr>\n",
              "      <th>3</th>\n",
              "      <td>167</td>\n",
              "      <td>73</td>\n",
              "      <td>43</td>\n",
              "      <td>45.7</td>\n",
              "      <td>2.6</td>\n",
              "      <td>43.0</td>\n",
              "    </tr>\n",
              "    <tr>\n",
              "      <th>4</th>\n",
              "      <td>128</td>\n",
              "      <td>64</td>\n",
              "      <td>46</td>\n",
              "      <td>54.8</td>\n",
              "      <td>1.1</td>\n",
              "      <td>46.0</td>\n",
              "    </tr>\n",
              "    <tr>\n",
              "      <th>...</th>\n",
              "      <td>...</td>\n",
              "      <td>...</td>\n",
              "      <td>...</td>\n",
              "      <td>...</td>\n",
              "      <td>...</td>\n",
              "      <td>...</td>\n",
              "    </tr>\n",
              "    <tr>\n",
              "      <th>124</th>\n",
              "      <td>196</td>\n",
              "      <td>98</td>\n",
              "      <td>79</td>\n",
              "      <td>79.0</td>\n",
              "      <td>4.0</td>\n",
              "      <td>89.0</td>\n",
              "    </tr>\n",
              "    <tr>\n",
              "      <th>125</th>\n",
              "      <td>160</td>\n",
              "      <td>63</td>\n",
              "      <td>35</td>\n",
              "      <td>60.0</td>\n",
              "      <td>2.0</td>\n",
              "      <td>40.0</td>\n",
              "    </tr>\n",
              "    <tr>\n",
              "      <th>126</th>\n",
              "      <td>142</td>\n",
              "      <td>77</td>\n",
              "      <td>50</td>\n",
              "      <td>73.0</td>\n",
              "      <td>2.0</td>\n",
              "      <td>58.0</td>\n",
              "    </tr>\n",
              "    <tr>\n",
              "      <th>127</th>\n",
              "      <td>181</td>\n",
              "      <td>98</td>\n",
              "      <td>69</td>\n",
              "      <td>86.0</td>\n",
              "      <td>2.0</td>\n",
              "      <td>78.0</td>\n",
              "    </tr>\n",
              "    <tr>\n",
              "      <th>128</th>\n",
              "      <td>164</td>\n",
              "      <td>84</td>\n",
              "      <td>55</td>\n",
              "      <td>73.0</td>\n",
              "      <td>1.2</td>\n",
              "      <td>64.0</td>\n",
              "    </tr>\n",
              "  </tbody>\n",
              "</table>\n",
              "<p>129 rows × 6 columns</p>\n",
              "</div>"
            ],
            "text/plain": [
              "     Upre  U120  Upos    PP   UF   Ueq\n",
              "0     121    63    47  94.5  2.9  51.0\n",
              "1     166    87    68  59.4  1.4  71.0\n",
              "2     196    68    40  61.6  1.9  42.0\n",
              "3     167    73    43  45.7  2.6  43.0\n",
              "4     128    64    46  54.8  1.1  46.0\n",
              "..    ...   ...   ...   ...  ...   ...\n",
              "124   196    98    79  79.0  4.0  89.0\n",
              "125   160    63    35  60.0  2.0  40.0\n",
              "126   142    77    50  73.0  2.0  58.0\n",
              "127   181    98    69  86.0  2.0  78.0\n",
              "128   164    84    55  73.0  1.2  64.0\n",
              "\n",
              "[129 rows x 6 columns]"
            ]
          },
          "metadata": {
            "tags": []
          },
          "execution_count": 3
        }
      ]
    },
    {
      "cell_type": "markdown",
      "metadata": {
        "id": "EYFrjEEQQ0BQ"
      },
      "source": [
        "## Entendimiento de Datos"
      ]
    },
    {
      "cell_type": "code",
      "metadata": {
        "colab": {
          "base_uri": "https://localhost:8080/"
        },
        "id": "QkDmOvgFQ3je",
        "outputId": "4a4fe114-4c95-4f34-87db-1806587c0d1c"
      },
      "source": [
        "df.shape"
      ],
      "execution_count": null,
      "outputs": [
        {
          "output_type": "execute_result",
          "data": {
            "text/plain": [
              "(129, 6)"
            ]
          },
          "metadata": {
            "tags": []
          },
          "execution_count": 4
        }
      ]
    },
    {
      "cell_type": "markdown",
      "metadata": {
        "id": "jr0iPPhBRsA_"
      },
      "source": [
        "#### El dataframe tiene 129 rows y 6 atributos. El evento es la medicion de sangre del paciente. "
      ]
    },
    {
      "cell_type": "code",
      "metadata": {
        "colab": {
          "base_uri": "https://localhost:8080/"
        },
        "id": "NLIKMkc7Q9_L",
        "outputId": "346a6047-6ae9-4b98-bc6b-50a077dbb517"
      },
      "source": [
        "columns = df.columns\n",
        "columns.to_list()"
      ],
      "execution_count": null,
      "outputs": [
        {
          "output_type": "execute_result",
          "data": {
            "text/plain": [
              "['Upre', 'U120', 'Upos', 'PP', 'UF', 'Ueq']"
            ]
          },
          "metadata": {
            "tags": []
          },
          "execution_count": 5
        }
      ]
    },
    {
      "cell_type": "markdown",
      "metadata": {
        "id": "ASkk1CgRRBQ2"
      },
      "source": [
        "## Diccionario del Negocio\n",
        "\n",
        "Upre : Concentración de Urea inicial al tratamiento (tiempo 0)\n",
        "\n",
        "U120: Concentración de Urea a la mitad del tratamiento (tiempo 120)\n",
        "\n",
        "Upos : Concentracón de Urea al finalizar el tratamiento (tiempo 240 o Urea post) \n",
        "\n",
        "PP : Peso incial del paciente\n",
        "\n",
        "UF : Pérdida de peso al finalizar el tratamiento.\n",
        "\n",
        "\n"
      ]
    },
    {
      "cell_type": "code",
      "metadata": {
        "colab": {
          "base_uri": "https://localhost:8080/"
        },
        "id": "4NGCoe-bQuN2",
        "outputId": "ca809b12-2864-4e24-a690-24a6722aae0a"
      },
      "source": [
        "df.info()"
      ],
      "execution_count": null,
      "outputs": [
        {
          "output_type": "stream",
          "text": [
            "<class 'pandas.core.frame.DataFrame'>\n",
            "RangeIndex: 129 entries, 0 to 128\n",
            "Data columns (total 6 columns):\n",
            " #   Column  Non-Null Count  Dtype  \n",
            "---  ------  --------------  -----  \n",
            " 0   Upre    129 non-null    int64  \n",
            " 1   U120    129 non-null    int64  \n",
            " 2   Upos    129 non-null    int64  \n",
            " 3   PP      129 non-null    float64\n",
            " 4   UF      129 non-null    float64\n",
            " 5   Ueq     129 non-null    float64\n",
            "dtypes: float64(3), int64(3)\n",
            "memory usage: 6.2 KB\n"
          ],
          "name": "stdout"
        }
      ]
    },
    {
      "cell_type": "markdown",
      "metadata": {
        "id": "n3RHi8tXR7Gq"
      },
      "source": [
        "#### Los atributos son variables numericas continuas. "
      ]
    },
    {
      "cell_type": "code",
      "metadata": {
        "colab": {
          "base_uri": "https://localhost:8080/",
          "height": 300
        },
        "id": "904FQxOAQpj0",
        "outputId": "4d8797f2-47ec-49e4-d213-065f3a0d61c3"
      },
      "source": [
        "df.describe()"
      ],
      "execution_count": null,
      "outputs": [
        {
          "output_type": "execute_result",
          "data": {
            "text/html": [
              "<div>\n",
              "<style scoped>\n",
              "    .dataframe tbody tr th:only-of-type {\n",
              "        vertical-align: middle;\n",
              "    }\n",
              "\n",
              "    .dataframe tbody tr th {\n",
              "        vertical-align: top;\n",
              "    }\n",
              "\n",
              "    .dataframe thead th {\n",
              "        text-align: right;\n",
              "    }\n",
              "</style>\n",
              "<table border=\"1\" class=\"dataframe\">\n",
              "  <thead>\n",
              "    <tr style=\"text-align: right;\">\n",
              "      <th></th>\n",
              "      <th>Upre</th>\n",
              "      <th>U120</th>\n",
              "      <th>Upos</th>\n",
              "      <th>PP</th>\n",
              "      <th>UF</th>\n",
              "      <th>Ueq</th>\n",
              "    </tr>\n",
              "  </thead>\n",
              "  <tbody>\n",
              "    <tr>\n",
              "      <th>count</th>\n",
              "      <td>129.000000</td>\n",
              "      <td>129.000000</td>\n",
              "      <td>129.000000</td>\n",
              "      <td>129.000000</td>\n",
              "      <td>129.000000</td>\n",
              "      <td>129.000000</td>\n",
              "    </tr>\n",
              "    <tr>\n",
              "      <th>mean</th>\n",
              "      <td>147.992248</td>\n",
              "      <td>79.589147</td>\n",
              "      <td>55.000000</td>\n",
              "      <td>72.946512</td>\n",
              "      <td>2.743411</td>\n",
              "      <td>61.841085</td>\n",
              "    </tr>\n",
              "    <tr>\n",
              "      <th>std</th>\n",
              "      <td>35.103752</td>\n",
              "      <td>24.080793</td>\n",
              "      <td>18.391149</td>\n",
              "      <td>17.507936</td>\n",
              "      <td>1.182017</td>\n",
              "      <td>20.065516</td>\n",
              "    </tr>\n",
              "    <tr>\n",
              "      <th>min</th>\n",
              "      <td>59.000000</td>\n",
              "      <td>28.000000</td>\n",
              "      <td>21.000000</td>\n",
              "      <td>39.000000</td>\n",
              "      <td>0.000000</td>\n",
              "      <td>20.000000</td>\n",
              "    </tr>\n",
              "    <tr>\n",
              "      <th>25%</th>\n",
              "      <td>124.000000</td>\n",
              "      <td>64.000000</td>\n",
              "      <td>40.000000</td>\n",
              "      <td>60.000000</td>\n",
              "      <td>2.000000</td>\n",
              "      <td>48.500000</td>\n",
              "    </tr>\n",
              "    <tr>\n",
              "      <th>50%</th>\n",
              "      <td>146.000000</td>\n",
              "      <td>77.000000</td>\n",
              "      <td>50.000000</td>\n",
              "      <td>72.600000</td>\n",
              "      <td>2.700000</td>\n",
              "      <td>59.000000</td>\n",
              "    </tr>\n",
              "    <tr>\n",
              "      <th>75%</th>\n",
              "      <td>166.000000</td>\n",
              "      <td>96.000000</td>\n",
              "      <td>68.000000</td>\n",
              "      <td>85.300000</td>\n",
              "      <td>3.400000</td>\n",
              "      <td>76.000000</td>\n",
              "    </tr>\n",
              "    <tr>\n",
              "      <th>max</th>\n",
              "      <td>247.000000</td>\n",
              "      <td>144.000000</td>\n",
              "      <td>98.000000</td>\n",
              "      <td>119.000000</td>\n",
              "      <td>6.000000</td>\n",
              "      <td>112.000000</td>\n",
              "    </tr>\n",
              "  </tbody>\n",
              "</table>\n",
              "</div>"
            ],
            "text/plain": [
              "             Upre        U120        Upos          PP          UF         Ueq\n",
              "count  129.000000  129.000000  129.000000  129.000000  129.000000  129.000000\n",
              "mean   147.992248   79.589147   55.000000   72.946512    2.743411   61.841085\n",
              "std     35.103752   24.080793   18.391149   17.507936    1.182017   20.065516\n",
              "min     59.000000   28.000000   21.000000   39.000000    0.000000   20.000000\n",
              "25%    124.000000   64.000000   40.000000   60.000000    2.000000   48.500000\n",
              "50%    146.000000   77.000000   50.000000   72.600000    2.700000   59.000000\n",
              "75%    166.000000   96.000000   68.000000   85.300000    3.400000   76.000000\n",
              "max    247.000000  144.000000   98.000000  119.000000    6.000000  112.000000"
            ]
          },
          "metadata": {
            "tags": []
          },
          "execution_count": 7
        }
      ]
    },
    {
      "cell_type": "code",
      "metadata": {
        "colab": {
          "base_uri": "https://localhost:8080/",
          "height": 175
        },
        "id": "CZkGXC7oSIP0",
        "outputId": "e6175697-b9a4-45cb-c2c9-f0973c672cef"
      },
      "source": [
        "description = df.describe().loc[['mean', 'std', 'min', 'max']]\n",
        "description"
      ],
      "execution_count": null,
      "outputs": [
        {
          "output_type": "execute_result",
          "data": {
            "text/html": [
              "<div>\n",
              "<style scoped>\n",
              "    .dataframe tbody tr th:only-of-type {\n",
              "        vertical-align: middle;\n",
              "    }\n",
              "\n",
              "    .dataframe tbody tr th {\n",
              "        vertical-align: top;\n",
              "    }\n",
              "\n",
              "    .dataframe thead th {\n",
              "        text-align: right;\n",
              "    }\n",
              "</style>\n",
              "<table border=\"1\" class=\"dataframe\">\n",
              "  <thead>\n",
              "    <tr style=\"text-align: right;\">\n",
              "      <th></th>\n",
              "      <th>Upre</th>\n",
              "      <th>U120</th>\n",
              "      <th>Upos</th>\n",
              "      <th>PP</th>\n",
              "      <th>UF</th>\n",
              "      <th>Ueq</th>\n",
              "    </tr>\n",
              "  </thead>\n",
              "  <tbody>\n",
              "    <tr>\n",
              "      <th>mean</th>\n",
              "      <td>147.992248</td>\n",
              "      <td>79.589147</td>\n",
              "      <td>55.000000</td>\n",
              "      <td>72.946512</td>\n",
              "      <td>2.743411</td>\n",
              "      <td>61.841085</td>\n",
              "    </tr>\n",
              "    <tr>\n",
              "      <th>std</th>\n",
              "      <td>35.103752</td>\n",
              "      <td>24.080793</td>\n",
              "      <td>18.391149</td>\n",
              "      <td>17.507936</td>\n",
              "      <td>1.182017</td>\n",
              "      <td>20.065516</td>\n",
              "    </tr>\n",
              "    <tr>\n",
              "      <th>min</th>\n",
              "      <td>59.000000</td>\n",
              "      <td>28.000000</td>\n",
              "      <td>21.000000</td>\n",
              "      <td>39.000000</td>\n",
              "      <td>0.000000</td>\n",
              "      <td>20.000000</td>\n",
              "    </tr>\n",
              "    <tr>\n",
              "      <th>max</th>\n",
              "      <td>247.000000</td>\n",
              "      <td>144.000000</td>\n",
              "      <td>98.000000</td>\n",
              "      <td>119.000000</td>\n",
              "      <td>6.000000</td>\n",
              "      <td>112.000000</td>\n",
              "    </tr>\n",
              "  </tbody>\n",
              "</table>\n",
              "</div>"
            ],
            "text/plain": [
              "            Upre        U120       Upos          PP        UF         Ueq\n",
              "mean  147.992248   79.589147  55.000000   72.946512  2.743411   61.841085\n",
              "std    35.103752   24.080793  18.391149   17.507936  1.182017   20.065516\n",
              "min    59.000000   28.000000  21.000000   39.000000  0.000000   20.000000\n",
              "max   247.000000  144.000000  98.000000  119.000000  6.000000  112.000000"
            ]
          },
          "metadata": {
            "tags": []
          },
          "execution_count": 8
        }
      ]
    },
    {
      "cell_type": "code",
      "metadata": {
        "colab": {
          "base_uri": "https://localhost:8080/"
        },
        "id": "5ia2VmDPSIZa",
        "outputId": "afe84fb2-0ed2-49dd-e404-a79f8e9502af"
      },
      "source": [
        "for column in df.iteritems():\n",
        "    ranges_list = description.loc['max'] - description.loc['min'] \n",
        "ranges_list"
      ],
      "execution_count": null,
      "outputs": [
        {
          "output_type": "execute_result",
          "data": {
            "text/plain": [
              "Upre    188.0\n",
              "U120    116.0\n",
              "Upos     77.0\n",
              "PP       80.0\n",
              "UF        6.0\n",
              "Ueq      92.0\n",
              "dtype: float64"
            ]
          },
          "metadata": {
            "tags": []
          },
          "execution_count": 9
        }
      ]
    },
    {
      "cell_type": "code",
      "metadata": {
        "colab": {
          "base_uri": "https://localhost:8080/",
          "height": 1000
        },
        "id": "sKXWyubPTe-z",
        "outputId": "168db965-5fb5-4728-a497-cfed104042fc"
      },
      "source": [
        "f, axes = plt.subplots(3, 2, figsize=(30, 30), sharex=False)\n",
        "sns.despine(left=True)\n",
        "\n",
        "sns.distplot(df['Upre'],\n",
        "             hist=True, \n",
        "             kde=True,\n",
        "             color='red',\n",
        "             ax=axes[0, 0])\n",
        "\n",
        "sns.distplot(df['U120'],\n",
        "             hist=True, \n",
        "             kde=True,\n",
        "             color='red',\n",
        "             ax=axes[0, 1])\n",
        "\n",
        "sns.distplot(df['Upos'],\n",
        "             hist=True, \n",
        "             kde=True,\n",
        "             color='red',\n",
        "             ax=axes[1, 0])\n",
        "\n",
        "sns.distplot(df['PP'],\n",
        "             hist=True, \n",
        "             kde=True,\n",
        "             color='red',\n",
        "             ax=axes[1, 1])\n",
        "\n",
        "sns.distplot(df['UF'],\n",
        "             hist=True, \n",
        "             kde=True,\n",
        "             color='red',\n",
        "             ax=axes[2, 0])\n",
        "\n",
        "sns.distplot(df['Ueq'],\n",
        "             hist=True, \n",
        "             kde=True,\n",
        "             color='red',\n",
        "             ax=axes[2, 1])\n",
        "\n",
        "plt.show()"
      ],
      "execution_count": null,
      "outputs": [
        {
          "output_type": "stream",
          "text": [
            "/usr/local/lib/python3.7/dist-packages/seaborn/distributions.py:2557: FutureWarning: `distplot` is a deprecated function and will be removed in a future version. Please adapt your code to use either `displot` (a figure-level function with similar flexibility) or `histplot` (an axes-level function for histograms).\n",
            "  warnings.warn(msg, FutureWarning)\n",
            "/usr/local/lib/python3.7/dist-packages/seaborn/distributions.py:2557: FutureWarning: `distplot` is a deprecated function and will be removed in a future version. Please adapt your code to use either `displot` (a figure-level function with similar flexibility) or `histplot` (an axes-level function for histograms).\n",
            "  warnings.warn(msg, FutureWarning)\n",
            "/usr/local/lib/python3.7/dist-packages/seaborn/distributions.py:2557: FutureWarning: `distplot` is a deprecated function and will be removed in a future version. Please adapt your code to use either `displot` (a figure-level function with similar flexibility) or `histplot` (an axes-level function for histograms).\n",
            "  warnings.warn(msg, FutureWarning)\n",
            "/usr/local/lib/python3.7/dist-packages/seaborn/distributions.py:2557: FutureWarning: `distplot` is a deprecated function and will be removed in a future version. Please adapt your code to use either `displot` (a figure-level function with similar flexibility) or `histplot` (an axes-level function for histograms).\n",
            "  warnings.warn(msg, FutureWarning)\n",
            "/usr/local/lib/python3.7/dist-packages/seaborn/distributions.py:2557: FutureWarning: `distplot` is a deprecated function and will be removed in a future version. Please adapt your code to use either `displot` (a figure-level function with similar flexibility) or `histplot` (an axes-level function for histograms).\n",
            "  warnings.warn(msg, FutureWarning)\n",
            "/usr/local/lib/python3.7/dist-packages/seaborn/distributions.py:2557: FutureWarning: `distplot` is a deprecated function and will be removed in a future version. Please adapt your code to use either `displot` (a figure-level function with similar flexibility) or `histplot` (an axes-level function for histograms).\n",
            "  warnings.warn(msg, FutureWarning)\n"
          ],
          "name": "stderr"
        },
        {
          "output_type": "display_data",
          "data": {
            "image/png": "[encoded data removed]",
            "text/plain": [
              "<Figure size 2160x2160 with 6 Axes>"
            ]
          },
          "metadata": {
            "tags": [],
            "needs_background": "light"
          }
        }
      ]
    },
    {
      "cell_type": "code",
      "metadata": {
        "colab": {
          "base_uri": "https://localhost:8080/",
          "height": 269
        },
        "id": "STUe9sN-VQ8O",
        "outputId": "45a3801d-9892-48dd-d6a7-f432e9011a26"
      },
      "source": [
        "sns.heatmap(df.corr(), cmap='coolwarm', vmin=-1, vmax=1)\n",
        "\n",
        "plt.show()"
      ],
      "execution_count": null,
      "outputs": [
        {
          "output_type": "display_data",
          "data": {
            "image/png": "[encoded data removed]",
            "text/plain": [
              "<Figure size 432x288 with 2 Axes>"
            ]
          },
          "metadata": {
            "tags": [],
            "needs_background": "light"
          }
        }
      ]
    },
    {
      "cell_type": "markdown",
      "metadata": {
        "id": "e9NgR06PWBUa"
      },
      "source": [
        "### Valores Nan"
      ]
    },
    {
      "cell_type": "code",
      "metadata": {
        "colab": {
          "base_uri": "https://localhost:8080/"
        },
        "id": "Zn_b1eJTV3GY",
        "outputId": "6547d002-2e00-41a0-c9e2-338275ba29be"
      },
      "source": [
        "df.isna().sum()"
      ],
      "execution_count": null,
      "outputs": [
        {
          "output_type": "execute_result",
          "data": {
            "text/plain": [
              "Upre    0\n",
              "U120    0\n",
              "Upos    0\n",
              "PP      0\n",
              "UF      0\n",
              "Ueq     0\n",
              "dtype: int64"
            ]
          },
          "metadata": {
            "tags": []
          },
          "execution_count": 12
        }
      ]
    },
    {
      "cell_type": "markdown",
      "metadata": {
        "id": "F-hHCDcnWASt"
      },
      "source": [
        "#### Por suerte no hay valores nulos en la base de datos. "
      ]
    },
    {
      "cell_type": "markdown",
      "metadata": {
        "id": "3cYEXJMbWR6a"
      },
      "source": [
        "### Outliers\n"
      ]
    },
    {
      "cell_type": "markdown",
      "metadata": {
        "id": "J4-fs4QywHND"
      },
      "source": [
        "\n",
        "def plot_oultiers(data, mascaras):\n",
        "    \n",
        "    classes = sorted(np.unique(y_data))\n",
        "    f, ax = plt.subplots(1,1, figsize=(12, 4))\n",
        "    g = sns.boxplot(data=rating_zscore_df[mascara_3_sigmas])\n",
        "    g.set_title('Rating Z-Score con 3 sigmas')\n",
        "    \n",
        "    for p, label in zip(g.patches, classes):\n",
        "        g.annotate(LABELS[label], (p.get_x(), p.get_height() + 0.2))\n",
        "    \n",
        "    plt.show()"
      ]
    },
    {
      "cell_type": "code",
      "metadata": {
        "colab": {
          "base_uri": "https://localhost:8080/",
          "height": 351
        },
        "id": "X3XOUWocbXUL",
        "outputId": "d2a1281f-dbd3-4b1f-a836-25d2515e980e"
      },
      "source": [
        "sns.boxplot(df['Ueq'])"
      ],
      "execution_count": null,
      "outputs": [
        {
          "output_type": "stream",
          "text": [
            "/usr/local/lib/python3.7/dist-packages/seaborn/_decorators.py:43: FutureWarning: Pass the following variable as a keyword arg: x. From version 0.12, the only valid positional argument will be `data`, and passing other arguments without an explicit keyword will result in an error or misinterpretation.\n",
            "  FutureWarning\n"
          ],
          "name": "stderr"
        },
        {
          "output_type": "execute_result",
          "data": {
            "text/plain": [
              "<matplotlib.axes._subplots.AxesSubplot at 0x7fa435364f90>"
            ]
          },
          "metadata": {
            "tags": []
          },
          "execution_count": 13
        },
        {
          "output_type": "display_data",
          "data": {
            "image/png": "[encoded data removed]",
            "text/plain": [
              "<Figure size 432x288 with 1 Axes>"
            ]
          },
          "metadata": {
            "tags": [],
            "needs_background": "light"
          }
        }
      ]
    },
    {
      "cell_type": "code",
      "metadata": {
        "colab": {
          "base_uri": "https://localhost:8080/",
          "height": 351
        },
        "id": "rLI3D1olbSJ6",
        "outputId": "26336fbe-c9b6-4877-e85a-2ed6f596bbd1"
      },
      "source": [
        "sns.boxplot(df['UF'])"
      ],
      "execution_count": null,
      "outputs": [
        {
          "output_type": "stream",
          "text": [
            "/usr/local/lib/python3.7/dist-packages/seaborn/_decorators.py:43: FutureWarning: Pass the following variable as a keyword arg: x. From version 0.12, the only valid positional argument will be `data`, and passing other arguments without an explicit keyword will result in an error or misinterpretation.\n",
            "  FutureWarning\n"
          ],
          "name": "stderr"
        },
        {
          "output_type": "execute_result",
          "data": {
            "text/plain": [
              "<matplotlib.axes._subplots.AxesSubplot at 0x7fa4352d59d0>"
            ]
          },
          "metadata": {
            "tags": []
          },
          "execution_count": 14
        },
        {
          "output_type": "display_data",
          "data": {
            "image/png": "[encoded data removed]",
            "text/plain": [
              "<Figure size 432x288 with 1 Axes>"
            ]
          },
          "metadata": {
            "tags": [],
            "needs_background": "light"
          }
        }
      ]
    },
    {
      "cell_type": "code",
      "metadata": {
        "colab": {
          "base_uri": "https://localhost:8080/",
          "height": 351
        },
        "id": "GFWkTfObbPk6",
        "outputId": "8f5a4807-8b83-4db2-b69b-b96d09b354ce"
      },
      "source": [
        "sns.boxplot(df['PP'])"
      ],
      "execution_count": null,
      "outputs": [
        {
          "output_type": "stream",
          "text": [
            "/usr/local/lib/python3.7/dist-packages/seaborn/_decorators.py:43: FutureWarning: Pass the following variable as a keyword arg: x. From version 0.12, the only valid positional argument will be `data`, and passing other arguments without an explicit keyword will result in an error or misinterpretation.\n",
            "  FutureWarning\n"
          ],
          "name": "stderr"
        },
        {
          "output_type": "execute_result",
          "data": {
            "text/plain": [
              "<matplotlib.axes._subplots.AxesSubplot at 0x7fa4352bc5d0>"
            ]
          },
          "metadata": {
            "tags": []
          },
          "execution_count": 15
        },
        {
          "output_type": "display_data",
          "data": {
            "image/png": "[encoded data removed]",
            "text/plain": [
              "<Figure size 432x288 with 1 Axes>"
            ]
          },
          "metadata": {
            "tags": [],
            "needs_background": "light"
          }
        }
      ]
    },
    {
      "cell_type": "code",
      "metadata": {
        "colab": {
          "base_uri": "https://localhost:8080/",
          "height": 351
        },
        "id": "WkLmJVqRbNrb",
        "outputId": "d9fb80dc-8b45-458f-a4e0-f3dba53866ba"
      },
      "source": [
        "sns.boxplot(df['Upos'])"
      ],
      "execution_count": null,
      "outputs": [
        {
          "output_type": "stream",
          "text": [
            "/usr/local/lib/python3.7/dist-packages/seaborn/_decorators.py:43: FutureWarning: Pass the following variable as a keyword arg: x. From version 0.12, the only valid positional argument will be `data`, and passing other arguments without an explicit keyword will result in an error or misinterpretation.\n",
            "  FutureWarning\n"
          ],
          "name": "stderr"
        },
        {
          "output_type": "execute_result",
          "data": {
            "text/plain": [
              "<matplotlib.axes._subplots.AxesSubplot at 0x7fa435238c10>"
            ]
          },
          "metadata": {
            "tags": []
          },
          "execution_count": 16
        },
        {
          "output_type": "display_data",
          "data": {
            "image/png": "[encoded data removed]",
            "text/plain": [
              "<Figure size 432x288 with 1 Axes>"
            ]
          },
          "metadata": {
            "tags": [],
            "needs_background": "light"
          }
        }
      ]
    },
    {
      "cell_type": "code",
      "metadata": {
        "id": "7Mlvzpr9YNeF",
        "colab": {
          "base_uri": "https://localhost:8080/",
          "height": 351
        },
        "outputId": "722dd13b-af89-41c6-da42-953de302f073"
      },
      "source": [
        "sns.boxplot(df['Upre'])"
      ],
      "execution_count": null,
      "outputs": [
        {
          "output_type": "stream",
          "text": [
            "/usr/local/lib/python3.7/dist-packages/seaborn/_decorators.py:43: FutureWarning: Pass the following variable as a keyword arg: x. From version 0.12, the only valid positional argument will be `data`, and passing other arguments without an explicit keyword will result in an error or misinterpretation.\n",
            "  FutureWarning\n"
          ],
          "name": "stderr"
        },
        {
          "output_type": "execute_result",
          "data": {
            "text/plain": [
              "<matplotlib.axes._subplots.AxesSubplot at 0x7fa4351a5c50>"
            ]
          },
          "metadata": {
            "tags": []
          },
          "execution_count": 17
        },
        {
          "output_type": "display_data",
          "data": {
            "image/png": "[encoded data removed]",
            "text/plain": [
              "<Figure size 432x288 with 1 Axes>"
            ]
          },
          "metadata": {
            "tags": [],
            "needs_background": "light"
          }
        }
      ]
    },
    {
      "cell_type": "code",
      "metadata": {
        "colab": {
          "base_uri": "https://localhost:8080/",
          "height": 351
        },
        "id": "wIRAWaqZbIYo",
        "outputId": "95469634-49eb-4e6e-8378-de5707cc8c7f"
      },
      "source": [
        "sns.boxplot(df['U120'])"
      ],
      "execution_count": null,
      "outputs": [
        {
          "output_type": "stream",
          "text": [
            "/usr/local/lib/python3.7/dist-packages/seaborn/_decorators.py:43: FutureWarning: Pass the following variable as a keyword arg: x. From version 0.12, the only valid positional argument will be `data`, and passing other arguments without an explicit keyword will result in an error or misinterpretation.\n",
            "  FutureWarning\n"
          ],
          "name": "stderr"
        },
        {
          "output_type": "execute_result",
          "data": {
            "text/plain": [
              "<matplotlib.axes._subplots.AxesSubplot at 0x7fa43511e990>"
            ]
          },
          "metadata": {
            "tags": []
          },
          "execution_count": 18
        },
        {
          "output_type": "display_data",
          "data": {
            "image/png": "[encoded data removed]",
            "text/plain": [
              "<Figure size 432x288 with 1 Axes>"
            ]
          },
          "metadata": {
            "tags": [],
            "needs_background": "light"
          }
        }
      ]
    },
    {
      "cell_type": "markdown",
      "metadata": {
        "id": "Jhpzy5EQcIBJ"
      },
      "source": [
        "#### Vamos a corregir los outliers"
      ]
    },
    {
      "cell_type": "code",
      "metadata": {
        "id": "okZYV0ahcGyX"
      },
      "source": [
        "scaler = StandardScaler()"
      ],
      "execution_count": null,
      "outputs": []
    },
    {
      "cell_type": "code",
      "metadata": {
        "colab": {
          "base_uri": "https://localhost:8080/",
          "height": 489
        },
        "id": "W7LngbflZ9nU",
        "outputId": "bd6ad90b-de6b-44ac-e34b-8b88278b8fb2"
      },
      "source": [
        "# Aprendemos sobre nuestros datos, no olvidemos el reshape!\n",
        "scaler.fit(df['Upre'].values.reshape(-1, 1))\n",
        "\n",
        "# Ahora transformamos los datos\n",
        "duration_zscore = scaler.transform(df['Upre'].values.reshape(-1, 1))\n",
        "\n",
        "# Guardemoslo en un dataframe\n",
        "duration_zscore_df = pd.DataFrame(duration_zscore, columns=['Upre'])\n",
        "\n",
        "# Y si filtramos con las tablas de z-score\n",
        "# Si filtramos aquellos valores mayores a 2, estamos considerando el 99% de la distribucion\n",
        "mascara_z_score = np.abs(duration_zscore_df) < 2\n",
        "sns.boxplot(data=duration_zscore_df[mascara_z_score]).set_title('Duration Z-Score, threshold: 2')\n",
        "plt.show()\n",
        "\n",
        "df['UF']"
      ],
      "execution_count": null,
      "outputs": [
        {
          "output_type": "display_data",
          "data": {
            "image/png": "[encoded data removed]",
            "text/plain": [
              "<Figure size 432x288 with 1 Axes>"
            ]
          },
          "metadata": {
            "tags": [],
            "needs_background": "light"
          }
        },
        {
          "output_type": "execute_result",
          "data": {
            "text/plain": [
              "0      2.9\n",
              "1      1.4\n",
              "2      1.9\n",
              "3      2.6\n",
              "4      1.1\n",
              "      ... \n",
              "124    4.0\n",
              "125    2.0\n",
              "126    2.0\n",
              "127    2.0\n",
              "128    1.2\n",
              "Name: UF, Length: 129, dtype: float64"
            ]
          },
          "metadata": {
            "tags": []
          },
          "execution_count": 20
        }
      ]
    },
    {
      "cell_type": "code",
      "metadata": {
        "colab": {
          "base_uri": "https://localhost:8080/",
          "height": 281
        },
        "id": "fB_eRbsQcp_c",
        "outputId": "1ff9ade0-551d-4c4b-fb60-8cccf8a3e48f"
      },
      "source": [
        "scaler.fit(df['UF'].values.reshape(-1, 1))\n",
        "\n",
        "# Ahora transformamos los datos\n",
        "duration_zscore = scaler.transform(df['UF'].values.reshape(-1, 1))\n",
        "\n",
        "# Guardemoslo en un dataframe\n",
        "duration_zscore_df = pd.DataFrame(duration_zscore, columns=['UF'])\n",
        "\n",
        "# Y si filtramos con las tablas de z-score\n",
        "# Si filtramos aquellos valores mayores a 2, estamos considerando el 99% de la distribucion\n",
        "mascara_z_score = np.abs(duration_zscore_df) < 2\n",
        "sns.boxplot(data=duration_zscore_df[mascara_z_score]).set_title('Duration Z-Score, threshold: 2')\n",
        "plt.show()"
      ],
      "execution_count": null,
      "outputs": [
        {
          "output_type": "display_data",
          "data": {
            "image/png": "[encoded data removed]",
            "text/plain": [
              "<Figure size 432x288 with 1 Axes>"
            ]
          },
          "metadata": {
            "tags": [],
            "needs_background": "light"
          }
        }
      ]
    },
    {
      "cell_type": "markdown",
      "metadata": {
        "id": "xDSSv0j9eqPV"
      },
      "source": [
        "## Hay que escalar con MaxMin?"
      ]
    },
    {
      "cell_type": "markdown",
      "metadata": {
        "id": "2jon1-WFuzVk"
      },
      "source": [
        "### Preprocesing data"
      ]
    },
    {
      "cell_type": "code",
      "metadata": {
        "colab": {
          "base_uri": "https://localhost:8080/"
        },
        "id": "iy8Luf28uyd_",
        "outputId": "cc65cd6b-f708-47bc-d6be-515793f5ce40"
      },
      "source": [
        "X, Y = df.iloc[:, :-1].values, df.iloc[:, -1].values\n",
        "X_train, X_test, Y_train, Y_test = train_test_split(X, Y, test_size=TEST_SIZE, random_state=SEED)\n",
        "\n",
        "print('Tamaño X_train: {}'.format(X_train.shape))\n",
        "print('Tamaño Y_train: {}'.format(Y_train.shape))\n",
        "print('Tamaño X_test: {}'.format(X_test.shape))\n",
        "print('Tamaño Y_test: {}'.format(Y_test.shape))"
      ],
      "execution_count": null,
      "outputs": [
        {
          "output_type": "stream",
          "text": [
            "Tamaño X_train: (103, 5)\n",
            "Tamaño Y_train: (103,)\n",
            "Tamaño X_test: (26, 5)\n",
            "Tamaño Y_test: (26,)\n"
          ],
          "name": "stdout"
        }
      ]
    },
    {
      "cell_type": "code",
      "metadata": {
        "id": "nFlPrh2pWKHc"
      },
      "source": [
        "scaler = StandardScaler()\n",
        "X_train = scaler.fit_transform(X_train)\n",
        "X_test = scaler.transform(X_test)"
      ],
      "execution_count": null,
      "outputs": []
    },
    {
      "cell_type": "markdown",
      "metadata": {
        "id": "HeE1MELFwyxF"
      },
      "source": [
        "## Modelo"
      ]
    },
    {
      "cell_type": "code",
      "metadata": {
        "colab": {
          "base_uri": "https://localhost:8080/"
        },
        "id": "ZUsgJfZrwx4C",
        "outputId": "ec746053-fb7d-45ea-ae20-d60561add986"
      },
      "source": [
        "model = SVR()\n",
        "model.fit(X_train, Y_train)"
      ],
      "execution_count": null,
      "outputs": [
        {
          "output_type": "execute_result",
          "data": {
            "text/plain": [
              "SVR(C=1.0, cache_size=200, coef0=0.0, degree=3, epsilon=0.1, gamma='scale',\n",
              "    kernel='rbf', max_iter=-1, shrinking=True, tol=0.001, verbose=False)"
            ]
          },
          "metadata": {
            "tags": []
          },
          "execution_count": 26
        }
      ]
    },
    {
      "cell_type": "code",
      "metadata": {
        "id": "AJiOfdWZxFHe",
        "colab": {
          "base_uri": "https://localhost:8080/",
          "height": 237
        },
        "outputId": "b8b78604-f9ea-4bbd-96a1-e9c79da420ec"
      },
      "source": [
        "# Obtengamos predicciones para el conjunto de test\n",
        "train_y_pred = model.predict(X_train)\n",
        "train_acc = accuracy_score(Y_train, train_y_pred)\n",
        "print('+ Accuracy en train: {:.4f}'.format(train_acc))\n",
        "test_y_pred = model.predict(X_test)\n",
        "test_acc = accuracy_score(Y_test, test_y_pred)\n",
        "print('+ Accuracy en test: {:.4f}'.format(test_acc))"
      ],
      "execution_count": null,
      "outputs": [
        {
          "output_type": "error",
          "ename": "NameError",
          "evalue": "ignored",
          "traceback": [
            "\u001b[0;31m---------------------------------------------------------------------------\u001b[0m",
            "\u001b[0;31mNameError\u001b[0m                                 Traceback (most recent call last)",
            "\u001b[0;32m<ipython-input-27-29f0db00c9bc>\u001b[0m in \u001b[0;36m<module>\u001b[0;34m()\u001b[0m\n\u001b[1;32m      1\u001b[0m \u001b[0;31m# Obtengamos predicciones para el conjunto de test\u001b[0m\u001b[0;34m\u001b[0m\u001b[0;34m\u001b[0m\u001b[0;34m\u001b[0m\u001b[0m\n\u001b[1;32m      2\u001b[0m \u001b[0mtrain_y_pred\u001b[0m \u001b[0;34m=\u001b[0m \u001b[0mmodel\u001b[0m\u001b[0;34m.\u001b[0m\u001b[0mpredict\u001b[0m\u001b[0;34m(\u001b[0m\u001b[0mX_train\u001b[0m\u001b[0;34m)\u001b[0m\u001b[0;34m\u001b[0m\u001b[0;34m\u001b[0m\u001b[0m\n\u001b[0;32m----> 3\u001b[0;31m \u001b[0mtrain_acc\u001b[0m \u001b[0;34m=\u001b[0m \u001b[0maccuracy_score\u001b[0m\u001b[0;34m(\u001b[0m\u001b[0mY_train\u001b[0m\u001b[0;34m,\u001b[0m \u001b[0mtrain_y_pred\u001b[0m\u001b[0;34m)\u001b[0m\u001b[0;34m\u001b[0m\u001b[0;34m\u001b[0m\u001b[0m\n\u001b[0m\u001b[1;32m      4\u001b[0m \u001b[0mprint\u001b[0m\u001b[0;34m(\u001b[0m\u001b[0;34m'+ Accuracy en train: {:.4f}'\u001b[0m\u001b[0;34m.\u001b[0m\u001b[0mformat\u001b[0m\u001b[0;34m(\u001b[0m\u001b[0mtrain_acc\u001b[0m\u001b[0;34m)\u001b[0m\u001b[0;34m)\u001b[0m\u001b[0;34m\u001b[0m\u001b[0;34m\u001b[0m\u001b[0m\n\u001b[1;32m      5\u001b[0m \u001b[0mtest_y_pred\u001b[0m \u001b[0;34m=\u001b[0m \u001b[0mmodel\u001b[0m\u001b[0;34m.\u001b[0m\u001b[0mpredict\u001b[0m\u001b[0;34m(\u001b[0m\u001b[0mX_test\u001b[0m\u001b[0;34m)\u001b[0m\u001b[0;34m\u001b[0m\u001b[0;34m\u001b[0m\u001b[0m\n",
            "\u001b[0;31mNameError\u001b[0m: name 'accuracy_score' is not defined"
          ]
        }
      ]
    },
    {
      "cell_type": "code",
      "metadata": {
        "id": "N2ldavsbxHIJ"
      },
      "source": [
        "# Definimos un conjunto de paremetros a combinar y usar\n",
        "tuned_parameters = [{'kernel': ['rbf'], 'gamma': [1e-2, 1e-3, 1e-4, 1e-5],\n",
        "                     'C': [0.001, 0.10, 0.1, 10, 25, 50, 100, 1000]},\n",
        "                    {'kernel': ['sigmoid'], 'gamma': [1e-2, 1e-3, 1e-4, 1e-5],\n",
        "                     'C': [0.001, 0.10, 0.1, 10, 25, 50, 100, 1000]},\n",
        "                    {'kernel': ['linear'], 'C': [0.001, 0.10, 0.1, 10, 25, 50, 100, 1000]}\n",
        "                   ]\n",
        "\n",
        "# Creamos el modelo para probarlos\n",
        "tuned_model = GridSearchCV(SVC(C=1),          # Clasificador base\n",
        "                           tuned_parameters,  # Parametros a probar\n",
        "                           cv=5,              # 5-fold cross validation\n",
        "                           scoring='accuracy')\n",
        "\n",
        "# Se entrenara utilizando 5-fold cross validation en el conjunto de entrenamiento\n",
        "tuned_model.fit(X_train, Y_train)\n",
        "\n",
        "print('Mejores parametros: {}'.format(tuned_model.best_params_))\n",
        "print('Accuracy: {:.4f}'.format(tuned_model.best_score_))"
      ],
      "execution_count": null,
      "outputs": []
    },
    {
      "cell_type": "code",
      "metadata": {
        "id": "TQc6-ZOZxMPe"
      },
      "source": [
        "# Entrenamos el modelo final con los parametros obtenidos\n",
        "model = SVC(C=10, gamma=0.01, kernel='rbf')\n",
        "model.fit(X_train, Y_train)\n",
        "\n",
        "# Evaluamos los resultados\n",
        "test_y_pred = model.predict(X_test)\n",
        "test_acc = accuracy_score(Y_test, test_y_pred)\n",
        "print('+ Accuracy en test: {:.4f}'.format(test_acc))"
      ],
      "execution_count": null,
      "outputs": []
    }
  ]
}